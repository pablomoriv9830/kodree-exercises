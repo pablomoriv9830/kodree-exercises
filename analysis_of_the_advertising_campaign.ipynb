{
  "nbformat": 4,
  "nbformat_minor": 0,
  "metadata": {
    "colab": {
      "provenance": [],
      "authorship_tag": "ABX9TyPbW3+nYcv44Apf+jFJERw6",
      "include_colab_link": true
    },
    "kernelspec": {
      "name": "python3",
      "display_name": "Python 3"
    },
    "language_info": {
      "name": "python"
    }
  },
  "cells": [
    {
      "cell_type": "markdown",
      "metadata": {
        "id": "view-in-github",
        "colab_type": "text"
      },
      "source": [
        "<a href=\"https://colab.research.google.com/github/pablomoriv9830/kodree-exercises/blob/main/analysis_of_the_advertising_campaign.ipynb\" target=\"_parent\"><img src=\"https://colab.research.google.com/assets/colab-badge.svg\" alt=\"Open In Colab\"/></a>"
      ]
    },
    {
      "cell_type": "code",
      "execution_count": 1,
      "metadata": {
        "id": "w_dT8GFId1Ow"
      },
      "outputs": [],
      "source": [
        "# Importa la librería NumPy\n",
        "import numpy as np"
      ]
    },
    {
      "cell_type": "code",
      "source": [
        "# Crear array ad_clicks con 60 elementos en el rango 100 a 10000\n",
        "ad_clicks = np.random.randint(low=100, high=10000, size=60, dtype=np.int32)"
      ],
      "metadata": {
        "id": "nGF5vnnSeFqm"
      },
      "execution_count": 2,
      "outputs": []
    },
    {
      "cell_type": "code",
      "source": [
        "# Muestra array generado en pantalla\n",
        "print(ad_clicks)"
      ],
      "metadata": {
        "colab": {
          "base_uri": "https://localhost:8080/"
        },
        "id": "AMUAVkYveeV1",
        "outputId": "f31abf4f-a526-429c-e8b9-151969e54702"
      },
      "execution_count": 3,
      "outputs": [
        {
          "output_type": "stream",
          "name": "stdout",
          "text": [
            "[2285 4853 5600 3083 2839 9411 5491 9985 5569 7953 4053 6227 5911 9494\n",
            " 4867 9123 7583  320 6065 9988 2264 3909 6477 3373 7451 9733 7813 6046\n",
            " 5570 4891 6098 5398 9028  136 1443 4594 1616 7326 3883 5938 7469 7357\n",
            " 8372 7957  422 4291  142 6958 9536 2566 4888 3487  166 2799 1155 2478\n",
            " 1890  375 5895 9995]\n"
          ]
        }
      ]
    },
    {
      "cell_type": "code",
      "source": [
        "# Cuenta número de elementos en el array\n",
        "num_elementos = ad_clicks.size\n",
        "print(num_elementos)"
      ],
      "metadata": {
        "colab": {
          "base_uri": "https://localhost:8080/"
        },
        "id": "1_QiPR4Qe1rO",
        "outputId": "feadca67-5070-42bc-ed04-527c9dd2b3f3"
      },
      "execution_count": 4,
      "outputs": [
        {
          "output_type": "stream",
          "name": "stdout",
          "text": [
            "60\n"
          ]
        }
      ]
    },
    {
      "cell_type": "code",
      "source": [
        "# Determina el tipo de los elementos en el array\n",
        "tipo_elementos = ad_clicks.dtype\n",
        "print(tipo_elementos)"
      ],
      "metadata": {
        "colab": {
          "base_uri": "https://localhost:8080/"
        },
        "id": "-5GRIpkDe_A9",
        "outputId": "dc978a30-f399-46a1-8696-71df94ac353a"
      },
      "execution_count": 5,
      "outputs": [
        {
          "output_type": "stream",
          "name": "stdout",
          "text": [
            "int32\n"
          ]
        }
      ]
    }
  ]
}