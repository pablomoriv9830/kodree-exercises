{
  "nbformat": 4,
  "nbformat_minor": 0,
  "metadata": {
    "colab": {
      "provenance": [],
      "authorship_tag": "ABX9TyOsVi3AhFpmgET5dZUgKDpe",
      "include_colab_link": true
    },
    "kernelspec": {
      "name": "python3",
      "display_name": "Python 3"
    },
    "language_info": {
      "name": "python"
    }
  },
  "cells": [
    {
      "cell_type": "markdown",
      "metadata": {
        "id": "view-in-github",
        "colab_type": "text"
      },
      "source": [
        "<a href=\"https://colab.research.google.com/github/pablomoriv9830/kodree-exercises/blob/main/logical_indexing.ipynb\" target=\"_parent\"><img src=\"https://colab.research.google.com/assets/colab-badge.svg\" alt=\"Open In Colab\"/></a>"
      ]
    },
    {
      "cell_type": "code",
      "execution_count": 1,
      "metadata": {
        "colab": {
          "base_uri": "https://localhost:8080/"
        },
        "id": "2TFQERNBjeJg",
        "outputId": "be63350e-794b-4de6-cebc-3d79025a2de6"
      },
      "outputs": [
        {
          "output_type": "stream",
          "name": "stdout",
          "text": [
            "[3682 1446 5318 7863 9885 7482 5957  196 6357 6882 4243 4269 5764 1042\n",
            " 6468  211 3581 1463 2994 3425 1192 8085 1947 6584  139 1446 6840 6748\n",
            " 6177 7444 1259 4295 2528 8128 3352 1482 4409 2438 6213  688 9996 4071\n",
            "  937 2724 5039 1542 9118 9710 6728 7247 4607 8272 7850 1489 8663 8682\n",
            " 8050 8547 3416 4555]\n"
          ]
        }
      ],
      "source": [
        "# Importar NumPy y generar array de ad clicks para imprimirlo en pantalla\n",
        "import numpy as np\n",
        "np.random.seed(123)\n",
        "ad_clicks = np.random.randint(100, 10000, size=60, dtype=np.int32)\n",
        "total_dias = ad_clicks.size\n",
        "print(ad_clicks)"
      ]
    },
    {
      "cell_type": "code",
      "source": [
        "# Mostrar todos los elementos del array mayores a 8000 clics\n",
        "filtro = ad_clicks > 8000\n",
        "mayores_8000 = ad_clicks[filtro]\n",
        "print(mayores_8000)"
      ],
      "metadata": {
        "colab": {
          "base_uri": "https://localhost:8080/"
        },
        "id": "qQM31LMuj5xj",
        "outputId": "d76b0663-8620-4ec1-cf3d-c4359712660c"
      },
      "execution_count": 2,
      "outputs": [
        {
          "output_type": "stream",
          "name": "stdout",
          "text": [
            "[9885 8085 8128 9996 9118 9710 8272 8663 8682 8050 8547]\n"
          ]
        }
      ]
    },
    {
      "cell_type": "code",
      "source": [
        "# Mostrar el recuento de dichos valores\n",
        "cantidad_mayor_8000 = filtro.sum()\n",
        "print(f\"Hay un total de {cantidad_mayor_8000} elementos mayores a 8000\")"
      ],
      "metadata": {
        "colab": {
          "base_uri": "https://localhost:8080/"
        },
        "id": "Bv0SGKaBkXB2",
        "outputId": "2030cdde-af94-4755-ce8b-8cf6743f3a78"
      },
      "execution_count": 3,
      "outputs": [
        {
          "output_type": "stream",
          "name": "stdout",
          "text": [
            "Hay un total de 11 elementos mayores a 8000\n"
          ]
        }
      ]
    },
    {
      "cell_type": "code",
      "source": [
        "# Calcula el porcentaje de valores con más de 4000 clics e imprimelos\n",
        "filtro_4000 = ad_clicks > 4000\n",
        "mayores_4000 = ad_clicks[filtro_4000]\n",
        "cantidad_mayor_4000 = filtro_4000.sum()\n",
        "porcentaje_4000 =  round(cantidad_mayor_4000 * 100 / total_dias, 2)\n",
        "print(f\"Hay un total de {cantidad_mayor_4000} elementos mayores a 4000\")\n",
        "print(f\"Esto representa un {porcentaje_4000}% de los elementos\")\n",
        "print(f\"Los elementos mayores a 4000 son:\\n{mayores_4000}\")"
      ],
      "metadata": {
        "colab": {
          "base_uri": "https://localhost:8080/"
        },
        "id": "G6nS4ej0kpt3",
        "outputId": "488f8751-285a-4238-abb2-3d59fe4d3289"
      },
      "execution_count": 4,
      "outputs": [
        {
          "output_type": "stream",
          "name": "stdout",
          "text": [
            "Hay un total de 36 elementos mayores a 4000\n",
            "Esto representa un 60.0% de los elementos\n",
            "Los elementos mayores a 4000 son:\n",
            "[5318 7863 9885 7482 5957 6357 6882 4243 4269 5764 6468 8085 6584 6840\n",
            " 6748 6177 7444 4295 8128 4409 6213 9996 4071 5039 9118 9710 6728 7247\n",
            " 4607 8272 7850 8663 8682 8050 8547 4555]\n"
          ]
        }
      ]
    },
    {
      "cell_type": "code",
      "source": [
        "# Calcula el porcentaje de valores con no más de 1000 clics e imprimelos\n",
        "filtro_1000 = ad_clicks <= 1000\n",
        "no_mayores_1000 = ad_clicks[filtro_1000]\n",
        "cantidad_no_mayor_1000 = filtro_1000.sum()\n",
        "porcentaje_1000 =  round(cantidad_no_mayor_1000 * 100 / total_dias, 2)\n",
        "print(f\"Hay un total de {cantidad_no_mayor_1000} elementos no mayores a 1000\")\n",
        "print(f\"Esto representa un {porcentaje_1000}% de los elementos\")\n",
        "print(f\"Los elementos no mayores a 1000 son:\\n{no_mayores_1000}\")"
      ],
      "metadata": {
        "colab": {
          "base_uri": "https://localhost:8080/"
        },
        "id": "5MQyIMUol3B0",
        "outputId": "dfe5aea6-02de-429c-abfb-bc368a6ca3d7"
      },
      "execution_count": 5,
      "outputs": [
        {
          "output_type": "stream",
          "name": "stdout",
          "text": [
            "Hay un total de 5 elementos no mayores a 1000\n",
            "Esto representa un 8.33% de los elementos\n",
            "Los elementos no mayores a 1000 son:\n",
            "[196 211 139 688 937]\n"
          ]
        }
      ]
    },
    {
      "cell_type": "code",
      "source": [
        "# Calcula el porcentaje de valores entre 5000 y 7500 clics e imprimelos\n",
        "filtro_5000_7500 = np.logical_and(ad_clicks >= 5000, ad_clicks <= 7500)\n",
        "entre_5000_7500 = ad_clicks[filtro_5000_7500]\n",
        "cantidad_5000_7500 = filtro_5000_7500.sum()\n",
        "porcentaje_5k_7500 =  round(cantidad_5000_7500 * 100 / total_dias, 2)\n",
        "print(f\"Hay un total de {cantidad_5000_7500} elementos entre 5000 y 7500\")\n",
        "print(f\"Esto representa un {porcentaje_5k_7500}% de los elementos\")\n",
        "print(f\"Los elementos entre 5000 y 7500 son:\\n{entre_5000_7500}\")"
      ],
      "metadata": {
        "colab": {
          "base_uri": "https://localhost:8080/"
        },
        "id": "kvUfqNX-m4Be",
        "outputId": "2f75b06b-ef78-4118-beaf-657b9c0727f5"
      },
      "execution_count": 6,
      "outputs": [
        {
          "output_type": "stream",
          "name": "stdout",
          "text": [
            "Hay un total de 16 elementos entre 5000 y 7500\n",
            "Esto representa un 26.67% de los elementos\n",
            "Los elementos entre 5000 y 7500 son:\n",
            "[5318 7482 5957 6357 6882 5764 6468 6584 6840 6748 6177 7444 6213 5039\n",
            " 6728 7247]\n"
          ]
        }
      ]
    }
  ]
}