{
  "nbformat": 4,
  "nbformat_minor": 0,
  "metadata": {
    "colab": {
      "provenance": [],
      "authorship_tag": "ABX9TyO+JVdMqYf7eePwIGGrGv7g",
      "include_colab_link": true
    },
    "kernelspec": {
      "name": "python3",
      "display_name": "Python 3"
    },
    "language_info": {
      "name": "python"
    }
  },
  "cells": [
    {
      "cell_type": "markdown",
      "metadata": {
        "id": "view-in-github",
        "colab_type": "text"
      },
      "source": [
        "<a href=\"https://colab.research.google.com/github/pablomoriv9830/kodree-exercises/blob/main/data_selection_from_arrays.ipynb\" target=\"_parent\"><img src=\"https://colab.research.google.com/assets/colab-badge.svg\" alt=\"Open In Colab\"/></a>"
      ]
    },
    {
      "cell_type": "code",
      "execution_count": 15,
      "metadata": {
        "id": "Mw_QoanbgHu0"
      },
      "outputs": [],
      "source": [
        "# Importamos NumPy\n",
        "import numpy as np"
      ]
    },
    {
      "cell_type": "code",
      "source": [
        "# Generamos el array aleatorio de clics y lo imprimimos en pantalla\n",
        "np.random.seed(123)\n",
        "ad_clicks = np.random.randint(low=100, high=10000, size=60, dtype=np.int32)\n",
        "print(ad_clicks)"
      ],
      "metadata": {
        "colab": {
          "base_uri": "https://localhost:8080/"
        },
        "id": "kOh0NXXygRtb",
        "outputId": "3a9aed1f-364c-4de3-b2bb-e2413a378bd8"
      },
      "execution_count": 16,
      "outputs": [
        {
          "output_type": "stream",
          "name": "stdout",
          "text": [
            "[3682 1446 5318 7863 9885 7482 5957  196 6357 6882 4243 4269 5764 1042\n",
            " 6468  211 3581 1463 2994 3425 1192 8085 1947 6584  139 1446 6840 6748\n",
            " 6177 7444 1259 4295 2528 8128 3352 1482 4409 2438 6213  688 9996 4071\n",
            "  937 2724 5039 1542 9118 9710 6728 7247 4607 8272 7850 1489 8663 8682\n",
            " 8050 8547 3416 4555]\n"
          ]
        }
      ]
    },
    {
      "cell_type": "code",
      "source": [
        "# Mostrar número de clics del primer día\n",
        "primer_dia = ad_clicks[0]\n",
        "print(f\"El primer día hubo un total de {primer_dia} clics\")\n",
        "\n",
        "# Mostrar número de clics del último día\n",
        "ultimo_dia = ad_clicks[-1]\n",
        "print(f\"El último día hubo un total de {ultimo_dia} clics\")\n",
        "\n",
        "# Mostrar número de clics durante los primeros 10 días\n",
        "primeros_10_dias = ad_clicks[:10].sum()\n",
        "print(f\"Los primeros 10 días hubo un total de {primeros_10_dias} clics\")\n",
        "\n",
        "# Mostrar número de clics del último mes\n",
        "ultimo_mes = ad_clicks[-30:].sum()\n",
        "print(f\"El último mes hubo un total de {ultimo_mes} clics\")"
      ],
      "metadata": {
        "colab": {
          "base_uri": "https://localhost:8080/"
        },
        "id": "g0wCHy4rgqqk",
        "outputId": "03d44196-c15f-4c8e-c956-5067b5685558"
      },
      "execution_count": 17,
      "outputs": [
        {
          "output_type": "stream",
          "name": "stdout",
          "text": [
            "El primer día hubo un total de 3682 clics\n",
            "El último día hubo un total de 4555 clics\n",
            "Los primeros 10 días hubo un total de 55068 clics\n",
            "El último mes hubo un total de 156035 clics\n"
          ]
        }
      ]
    }
  ]
}